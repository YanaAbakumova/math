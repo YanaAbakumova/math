{
 "cells": [
  {
   "cell_type": "markdown",
   "metadata": {},
   "source": [
    "__1.__ Найти предел последовательности:\n",
    "\n",
    "### $$а)\\,\\,\\,\\,\\lim_{n\\to \\infty} \\frac{(23-2n^2)(3n^2+17)^2}{4n^6+n-1}$$\n"
   ]
  },
  {
   "cell_type": "markdown",
   "metadata": {},
   "source": [
    "$$максимальная \\, степень \\,числителя\\,=  -2n^2 * 9n^4 = -18n^6$$\n",
    "$$максимальная \\,степень \\,знаменателя\\, = 4n^6$$\n",
    "\n",
    " $$а)\\lim_{n\\to \\infty} \\frac{(23-2n^2)(3n^2+17)^2}{4n^6+n-1} = \\frac{-18}{4} = -4,5$$"
   ]
  },
  {
   "cell_type": "code",
   "execution_count": 2,
   "metadata": {},
   "outputs": [
    {
     "data": {
      "image/png": "[encoded data removed]",
      "text/latex": [
       "$\\displaystyle \\frac{\\left(23 - 2 n^{2}\\right) \\left(3 n^{2} + 17\\right)^{2}}{4 n^{6} + n - 1}$"
      ],
      "text/plain": [
       "                       2\n",
       "⎛        2⎞ ⎛   2     ⎞ \n",
       "⎝23 - 2⋅n ⎠⋅⎝3⋅n  + 17⎠ \n",
       "────────────────────────\n",
       "         6              \n",
       "      4⋅n  + n - 1      "
      ]
     },
     "execution_count": 2,
     "metadata": {},
     "output_type": "execute_result"
    }
   ],
   "source": [
    "from sympy import *\n",
    "init_printing()\n",
    "n=Symbol('n')\n",
    "a=((23-2*n**2)*(3*n**2+17)**2)/(4*n**6 + n - 1)\n",
    "a"
   ]
  },
  {
   "cell_type": "code",
   "execution_count": 3,
   "metadata": {},
   "outputs": [
    {
     "data": {
      "image/png": "[encoded data removed]",
      "text/latex": [
       "$\\displaystyle - \\frac{9}{2}$"
      ],
      "text/plain": [
       "-9/2"
      ]
     },
     "execution_count": 3,
     "metadata": {},
     "output_type": "execute_result"
    }
   ],
   "source": [
    "limit (a,n,oo)"
   ]
  },
  {
   "cell_type": "markdown",
   "metadata": {},
   "source": [
    "### $$б)\\,\\,\\,\\,\\lim_{n\\to \\infty} \\frac{(97-2n)^3}{2n(3n^2+15)+8n}$$"
   ]
  },
  {
   "cell_type": "markdown",
   "metadata": {},
   "source": [
    "$$максимальная \\, степень \\,числителя\\,=  -8n^3$$\n",
    "$$максимальная \\,степень \\,знаменателя\\, = 6n^3$$\n",
    "\n",
    " $$а)\\,\\,\\,\\,\\lim_{n\\to \\infty} \\frac{(97-2n)^3}{2n(3n^2+15)+8n} = \\frac{-8}{6} = -\\frac{4}{3} $$"
   ]
  },
  {
   "cell_type": "code",
   "execution_count": 5,
   "metadata": {},
   "outputs": [
    {
     "data": {
      "image/png": "[encoded data removed]",
      "text/latex": [
       "$\\displaystyle \\frac{\\left(97 - 2 n\\right)^{3}}{2 n \\left(3 n^{2} + 15\\right) + 8 n}$"
      ],
      "text/plain": [
       "               3     \n",
       "     (97 - 2⋅n)      \n",
       "─────────────────────\n",
       "    ⎛   2     ⎞      \n",
       "2⋅n⋅⎝3⋅n  + 15⎠ + 8⋅n"
      ]
     },
     "execution_count": 5,
     "metadata": {},
     "output_type": "execute_result"
    }
   ],
   "source": [
    "n=Symbol('n')\n",
    "a=(97 - 2*n)**3 / (2*n*(3*n**2 + 15) + 8*n)\n",
    "a"
   ]
  },
  {
   "cell_type": "code",
   "execution_count": 6,
   "metadata": {},
   "outputs": [
    {
     "data": {
      "image/png": "[encoded data removed]",
      "text/latex": [
       "$\\displaystyle - \\frac{4}{3}$"
      ],
      "text/plain": [
       "-4/3"
      ]
     },
     "execution_count": 6,
     "metadata": {},
     "output_type": "execute_result"
    }
   ],
   "source": [
    "limit (a,n,oo)"
   ]
  },
  {
   "cell_type": "markdown",
   "metadata": {},
   "source": [
    "### $$в)\\,\\,\\,\\,\\lim_{n\\to \\infty} \\frac{2n^3+13n(n+18)}{(27-n)(2n+19)^2}$$"
   ]
  },
  {
   "cell_type": "markdown",
   "metadata": {},
   "source": [
    "$$максимальная \\, степень \\,числителя\\,=  2n^3$$\n",
    "$$максимальная \\,степень \\,знаменателя\\, = -n * 4n^2 = -4n^3 $$\n",
    "$$\\lim_{n\\to \\infty} \\frac{2n^3+13n(n+18)}{(27-n)(2n+19)^2} = \\frac{2}{-4} = -0.5$$"
   ]
  },
  {
   "cell_type": "code",
   "execution_count": 11,
   "metadata": {},
   "outputs": [
    {
     "data": {
      "image/png": "[encoded data removed]",
      "text/latex": [
       "$\\displaystyle \\frac{2 n^{3} + 13 n \\left(n + 18\\right)}{\\left(27 - n\\right) \\left(2 n + 19\\right)^{2}}$"
      ],
      "text/plain": [
       "   3                \n",
       "2⋅n  + 13⋅n⋅(n + 18)\n",
       "────────────────────\n",
       "                   2\n",
       "(27 - n)⋅(2⋅n + 19) "
      ]
     },
     "execution_count": 11,
     "metadata": {},
     "output_type": "execute_result"
    }
   ],
   "source": [
    "n=Symbol('n')\n",
    "a=(2*n**3 + 13*n*(n+18))/((27-n)*(2*n + 19)**2)\n",
    "a"
   ]
  },
  {
   "cell_type": "code",
   "execution_count": 12,
   "metadata": {},
   "outputs": [
    {
     "data": {
      "image/png": "[encoded data removed]",
      "text/latex": [
       "$\\displaystyle - \\frac{1}{2}$"
      ],
      "text/plain": [
       "-1/2"
      ]
     },
     "execution_count": 12,
     "metadata": {},
     "output_type": "execute_result"
    }
   ],
   "source": [
    "limit (a,n,oo)"
   ]
  },
  {
   "cell_type": "markdown",
   "metadata": {},
   "source": [
    "### $$г)\\,\\,\\,\\,\\lim_{n\\to \\infty} (\\sqrt{n^2+1}-n)$$"
   ]
  },
  {
   "cell_type": "markdown",
   "metadata": {},
   "source": [
    "$$\\lim_{n\\to \\infty} (\\sqrt{n^2+1}-n) = \\lim_{n\\to \\infty} (\\sqrt{n^2+1}-n) * \\frac{\\sqrt{n^2+1}+n}{\\sqrt{n^2+1}+n}$$\n",
    "$$ = \\lim_{n\\to \\infty} \\frac{n^2 + 1 - n^2}{\\sqrt{n^2+1}+n} = \\frac{1}{\\infty} = 0$$"
   ]
  },
  {
   "cell_type": "code",
   "execution_count": 13,
   "metadata": {},
   "outputs": [
    {
     "data": {
      "image/png": "[encoded data removed]",
      "text/latex": [
       "$\\displaystyle - n + \\sqrt{n^{2} + 1}$"
      ],
      "text/plain": [
       "        ________\n",
       "       ╱  2     \n",
       "-n + ╲╱  n  + 1 "
      ]
     },
     "execution_count": 13,
     "metadata": {},
     "output_type": "execute_result"
    }
   ],
   "source": [
    "n=Symbol('n')\n",
    "a=sqrt(n**2 + 1) - n\n",
    "a"
   ]
  },
  {
   "cell_type": "code",
   "execution_count": 14,
   "metadata": {},
   "outputs": [
    {
     "data": {
      "image/png": "[encoded data removed]",
      "text/latex": [
       "$\\displaystyle 0$"
      ],
      "text/plain": [
       "0"
      ]
     },
     "execution_count": 14,
     "metadata": {},
     "output_type": "execute_result"
    }
   ],
   "source": [
    "limit (a,n,oo)"
   ]
  },
  {
   "cell_type": "markdown",
   "metadata": {},
   "source": [
    "### $$д)\\,\\,\\,\\,\\lim_{n\\to \\infty} \\frac{(-4)^n+5\\cdot7^n}{(-4)^{n-1}+7^{n+2}}$$"
   ]
  },
  {
   "cell_type": "markdown",
   "metadata": {},
   "source": [
    "$$\\lim_{n\\to \\infty} \\frac{(-4)^n+5\\cdot7^n}{(-4)^{n-1}+7^{n+2}} =$$\n",
    "$$\\lim_{n\\to \\infty} \\frac{7n((-\\frac{4}{7})^n +5)}{7n(-4*(-\\frac{4}{7})^n + 49)} = \\frac{7^n(0+5)}{7^n(-4*0 + 49)} = \\frac{5}{49}$$"
   ]
  },
  {
   "cell_type": "code",
   "execution_count": 19,
   "metadata": {},
   "outputs": [
    {
     "data": {
      "image/png": "[encoded data removed]",
      "text/latex": [
       "$\\displaystyle \\frac{- 4^{n} + 5 \\cdot 7^{n}}{- 4^{n - 1} + 7^{n + 2}}$"
      ],
      "text/plain": [
       "      n      n   \n",
       "   - 4  + 5⋅7    \n",
       "─────────────────\n",
       "   n - 1    n + 2\n",
       "- 4      + 7     "
      ]
     },
     "execution_count": 19,
     "metadata": {},
     "output_type": "execute_result"
    }
   ],
   "source": [
    "n=Symbol('n')\n",
    "a=(-4**n + 5 * 7**n) / (-4**(n-1) + 7**(n+2))\n",
    "a"
   ]
  },
  {
   "cell_type": "code",
   "execution_count": 20,
   "metadata": {},
   "outputs": [
    {
     "data": {
      "image/png": "[encoded data removed]",
      "text/latex": [
       "$\\displaystyle \\frac{5}{49}$"
      ],
      "text/plain": [
       "5/49"
      ]
     },
     "execution_count": 20,
     "metadata": {},
     "output_type": "execute_result"
    }
   ],
   "source": [
    "limit (a,n,oo)"
   ]
  },
  {
   "cell_type": "markdown",
   "metadata": {},
   "source": [
    "### $$e)^*\\,\\,\\,\\,\\lim_{n\\to \\infty} \\Bigl(\\frac{1}{1\\cdot2}+\\frac{1}{2\\cdot3}+\\frac{1}{3\\cdot4}+...+\\frac{1}{(n-1)\\cdot n}\\Bigr)$$"
   ]
  },
  {
   "cell_type": "code",
   "execution_count": 28,
   "metadata": {},
   "outputs": [
    {
     "name": "stdout",
     "output_type": "stream",
     "text": [
      "Численное значение предела: 0.9999996838110266\n",
      " Погрешность: 9.992007221626409e-14\n",
      " Число шагов: 3162665\n"
     ]
    }
   ],
   "source": [
    "eps = 0.0000000000001\n",
    "lim=1\n",
    "\n",
    "n = 3\n",
    "a2=1/2\n",
    "list = [1/2]\n",
    "\n",
    "while lim > eps:\n",
    "    a1 = a2\n",
    "    list.append(1 / (n*(n-1)))\n",
    "    a2 = 1 / (n*(n-1)) +a1\n",
    "    lim = abs(a1-a2)\n",
    "    n += 1\n",
    "print (f'Численное значение предела: {a2}\\n',f'Погрешность: {lim}\\n', f'Число шагов: {n-1}')"
   ]
  },
  {
   "cell_type": "markdown",
   "metadata": {},
   "source": [
    " $$\\lim_{n\\to \\infty} \\Bigl(\\frac{1}{1\\cdot2}+\\frac{1}{2\\cdot3}+\\frac{1}{3\\cdot4}+...+\\frac{1}{(n-1)\\cdot n}\\Bigr) = 1$$"
   ]
  },
  {
   "cell_type": "markdown",
   "metadata": {},
   "source": [
    "__2.__ Представьте $1$ в виде суммы трех рациональных дробей с разными знаменателями и числителем равным $1$."
   ]
  },
  {
   "cell_type": "markdown",
   "metadata": {},
   "source": [
    "$$1 = \\frac{1}{2} + \\frac{1}{3} + \\frac{1}{6}$$"
   ]
  },
  {
   "cell_type": "markdown",
   "metadata": {},
   "source": [
    "__3$^*$.__ Тоже задание, только в виде суммы шести дробей."
   ]
  },
  {
   "cell_type": "markdown",
   "metadata": {},
   "source": [
    "$$1 = \\frac{1}{2} + \\frac{1}{4} + \\frac{1}{6} +\\frac{1}{12}$$\n",
    "$$ \\frac{1}{12} = \\frac{1}{6*4} + \\frac{1}{6*6} + \\frac{1}{6*12}$$\n",
    "$$1 = \\frac{1}{2} + \\frac{1}{4} + \\frac{1}{6} + \\frac{1}{24}+ \\frac{1}{36} + \\frac{1}{72}$$"
   ]
  },
  {
   "cell_type": "markdown",
   "metadata": {},
   "source": [
    "__4.__ Пользуясь критерием Коши, докажите сходимость последовательности:\n",
    "\n",
    "### $$a_n=\\frac{\\sin1}{2}+\\frac{\\sin2}{2^2}+\\frac{\\sin3}{2^3}+..\\frac{\\sin n}{2^n}\\,\\,\\,\\,\\,\\Rightarrow$$\n",
    "\n",
    "### $$\\Bigl\\{a_n\\Bigr\\}_{n=1}^\\infty=\\Bigl\\{\\frac{\\sin1}{2}, \\frac{\\sin1}{2}+\\frac{\\sin2}{2^2}, ..., a_n,...\\Bigr\\}$$\n",
    "\n",
    "\n",
    "$^*$ Какой член последовательности можно взять в качестве предела с точностью $\\varepsilon=10^{-7}$?"
   ]
  },
  {
   "cell_type": "markdown",
   "metadata": {},
   "source": [
    "Сделаем оценку сверху\n",
    "\n",
    " $$|a_n-a_{n+k}|=\\Bigl|\\frac{\\sin n}{2^n} - \\frac{\\sin (n+k)}{2^{n+k}}\\Bigr| = \\frac{1}{2^n}\\Bigl|\\sin n - \\frac{\\sin (n+k)}{2^k}\\Bigr| = $$\n",
    " $$ \\frac{1}{2^n}\\Bigl|\\pm 1 \\mp \\frac{\\sin (n+k)}{2^{k}} \\Bigr|<\\frac{1}{2^n}<\\frac{1}{2^{N(\\varepsilon)}}=\\varepsilon$$\n",
    " $$N(\\varepsilon)=-\\log_2 \\varepsilon$$"
   ]
  },
  {
   "cell_type": "markdown",
   "metadata": {},
   "source": [
    "Посколько синус числа находится в пределах от -1 до +1 и k $\\geq1$, $\\frac{\\sin (n+k)}{2^{n+k}}$ всегда меньше 1 и стремится к 0, разность между максимальным значением $\\sin n  (\\pm 1)$ и $\\frac{\\sin (n+k)}{2^{n+k}}$ по модулю не может быть больше 1.\n",
    "Значит произведение $\\frac{1}{2^n}$ и этого модуля не может быть больше, чем $\\frac{1}{2^n}$.\n",
    "Связть между $N(\\varepsilon)$ говорит о том, что предел существует.\n"
   ]
  },
  {
   "cell_type": "code",
   "execution_count": 3,
   "metadata": {},
   "outputs": [
    {
     "name": "stdout",
     "output_type": "stream",
     "text": [
      "eps=1e-07 N=23.25349666421154\n",
      "a_24=5.960464477539063e-08\n"
     ]
    }
   ],
   "source": [
    "import math\n",
    "eps = 10**(-7)\n",
    "N = -math.log(eps,2)\n",
    "\n",
    "print (f'eps={eps}', f'N={N}')\n",
    "\n",
    "n = int(N+1)\n",
    "\n",
    "print (f'a_{n}={1/2**n}')"
   ]
  },
  {
   "cell_type": "markdown",
   "metadata": {},
   "source": [
    "24й член последовательности можно взять в качестве предела с точностью $\\varepsilon=10^{-7}$"
   ]
  },
  {
   "cell_type": "code",
   "execution_count": null,
   "metadata": {},
   "outputs": [],
   "source": []
  }
 ],
 "metadata": {
  "kernelspec": {
   "display_name": "Python 3",
   "language": "python",
   "name": "python3"
  },
  "language_info": {
   "codemirror_mode": {
    "name": "ipython",
    "version": 3
   },
   "file_extension": ".py",
   "mimetype": "text/x-python",
   "name": "python",
   "nbconvert_exporter": "python",
   "pygments_lexer": "ipython3",
   "version": "3.7.9"
  }
 },
 "nbformat": 4,
 "nbformat_minor": 4
}
