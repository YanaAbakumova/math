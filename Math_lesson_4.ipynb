{
 "cells": [
  {
   "cell_type": "markdown",
   "metadata": {},
   "source": [
    "__1.__ Найти предел последовательности:\n",
    "\n",
    "### $$а)\\,\\,\\,\\,\\lim_{x\\to 6} \\frac{x^2-36}{x^2-x-30}$$"
   ]
  },
  {
   "cell_type": "markdown",
   "metadata": {},
   "source": [
    "$$\\lim_{x\\to 6} \\frac{x^2-36}{x^2-x-30} = \\Bigl(\\frac{0}{0}\\Bigr)=\\lim_{x\\to 6} \\frac{(x-6)(x+6)}{(x-6)(x+5)}=\\frac{12}{11}$$"
   ]
  },
  {
   "cell_type": "markdown",
   "metadata": {},
   "source": [
    "### $$б)\\,\\,\\,\\,\\lim_{x\\to 7} \\frac{x^2-49}{x^2-13x+42}$$"
   ]
  },
  {
   "cell_type": "markdown",
   "metadata": {},
   "source": [
    "$$\\lim_{x\\to 7}\\frac{x^2-49}{x^2-13x+42}=\\Bigl(\\frac{0}{0}\\Bigr)=\\lim_{x\\to 7}\\frac{(x-7)(x+7)}{(x-7)(x-6)}=\\frac{14}{1} = 14$$"
   ]
  },
  {
   "cell_type": "markdown",
   "metadata": {},
   "source": [
    "### $$в^*)\\,\\,\\,\\,\\lim_{x\\to 7} \\frac{\\sqrt{x+2}-\\sqrt[3]{x+20}}{\\sqrt[4]{x+9}-2}$$"
   ]
  },
  {
   "cell_type": "markdown",
   "metadata": {},
   "source": [
    "$$\\lim_{x\\to 7} \\frac{\\sqrt{x+2}-\\sqrt[3]{x+20}}{\\sqrt[4]{x+9}-2} =\\Bigl(\\frac{0}{0}\\Bigr) = \\lim_{x\\to 7} \\frac{\\sqrt{x+2}-3+3-\\sqrt[3]{x+20}}{\\sqrt[4]{x+9}-2} = \\lim_{x\\to 7} \\frac{(\\sqrt{x+2}-3) * (\\sqrt{x+2}+ 3)}{(\\sqrt[4]{x+9}-2) * (\\sqrt{x+2}+3)} + \\lim_{x\\to 7} \\frac{(3-\\sqrt[3]{x+20}) * (9 + 3\\sqrt[3]{x+20} + \\sqrt[3]{(x+20)^2}}{(\\sqrt[4]{x+9}-2) * (9 + 3\\sqrt[3]{x+20} + \\sqrt[3]{(x+20)^2}}$$\n",
    "\n",
    "$$ 1)\\lim_{x\\to 7} \\frac{(x+2-9) * (\\sqrt[4]{(x+9)^3} + 2\\sqrt{x+9}+4\\sqrt[4]{x+9}+8)}{(\\sqrt[4]{x+9}-2) *(\\sqrt[4]{(x+9)^3} + 2\\sqrt{x+9}+4\\sqrt[4]{x+9}+8) * (\\sqrt{x+2}+3)} = \\lim_{x\\to 7} \\frac{(x-7) * (\\sqrt[4]{(x+9)^3} + 2\\sqrt{x+9}+4\\sqrt[4]{x+9}+8)}{(x-7)* (\\sqrt{x+2}+3)} = \\frac{8+8+8+8}{3+3} = \\frac{16}{3}$$\n",
    "\n",
    "$$ 2)\\lim_{x\\to 7} \\frac{(27-x-20)*(\\sqrt[4]{(x+9)^3} + 2\\sqrt{x+9}+4\\sqrt[4]{x+9}+8)}{(x-7)* (9 + 3\\sqrt[3]{x+20} + \\sqrt[3]{(x+20)^2}} = \\frac{-1* (8+8+8+8)}{9+9+9} = -\\frac{32}{27}$$\n",
    "\n",
    "$$ \\frac{16}{3} -\\frac{32}{27} = \\frac{112}{27}$$"
   ]
  },
  {
   "cell_type": "markdown",
   "metadata": {},
   "source": [
    "### $$г)\\,\\,\\,\\,\\lim_{x\\to 0} \\frac{3x\\,\\mbox{tg}\\,4x}{1-\\cos4x}$$"
   ]
  },
  {
   "cell_type": "markdown",
   "metadata": {},
   "source": [
    "$$\\lim_{x\\to 0} \\frac{3x\\,\\mbox{tg}\\,4x}{1-\\cos4x} =\\Bigl(\\frac{0}{0}\\Bigr)=\\frac{3x\\,\\mbox{tg}\\,4x}{2\\sin^2 2x} = \\frac{3*4}{2*2^2} =\\frac{3}{2} $$"
   ]
  },
  {
   "cell_type": "markdown",
   "metadata": {},
   "source": [
    "### $$д^{**})\\,\\,\\,\\,\\lim_{x\\to 0} \\frac{\\sqrt2x^2\\sin4x}{(1-\\cos2x)^{\\frac{3}{2}}}$$"
   ]
  },
  {
   "cell_type": "markdown",
   "metadata": {},
   "source": [
    "$$\\lim_{x\\to 0} \\frac{\\sqrt2x^2\\sin4x}{(1-\\cos2x)^{\\frac{3}{2}}} =\\Bigl(\\frac{0}{0}\\Bigr)= \\frac{\\sqrt2x^2 * \\frac{\\sin4x}{4x} * 4x}{\\Bigl(\\frac{1-\\cos2x}{4x^2/2} * 2x^2\\Bigr)^\\frac{3}{2}}  = \\frac{4\\sqrt2 x^3}{2\\sqrt2 x^3} = 2$$"
   ]
  },
  {
   "cell_type": "markdown",
   "metadata": {},
   "source": [
    "### $$е)\\,\\,\\,\\,\\lim_{x\\to \\infty} \\Bigr(\\frac{4x}{4x+3}\\Bigl)^\\frac{5x^2}{7x-1}$$"
   ]
  },
  {
   "cell_type": "markdown",
   "metadata": {},
   "source": [
    "$$\\lim_{x\\to \\infty} \\Bigr(\\frac{4x}{4x+3}\\Bigl)^\\frac{5x^2}{7x-1}  = (1)^{+\\infty}= \\lim_{x\\to \\infty} e^{\\Bigr(\\frac{4x}{4x+3}-1\\Bigl) * \\frac{7}{3x-2}} = \\lim_{x\\to \\infty} e^{\\frac{-3 * 5x^2}{(4x+3)(7x-1)}} = \\lim_{x\\to \\infty} e^{\\frac{-15}{28}}$$"
   ]
  },
  {
   "cell_type": "markdown",
   "metadata": {},
   "source": [
    "### $$ж^*)\\,\\,\\,\\,\\lim_{x\\to +0} \\frac{5^x-1}{x}$$"
   ]
  },
  {
   "cell_type": "markdown",
   "metadata": {},
   "source": [
    "$$\\lim_{x\\to +0} \\frac{5^x-1}{x} =\\Bigl(\\frac{0}{0}\\Bigr) = \\lim_{x\\to +0} \\frac{e^{x*\\ln5} - 1}{x} = \\frac{\\ln5 * (e^{x*\\ln5}-1)}{x*\\ln5} =\\ln5 * 1 = \\ln5$$"
   ]
  },
  {
   "cell_type": "markdown",
   "metadata": {},
   "source": [
    "### $$з^*)\\,\\,\\,\\,\\lim_{x\\to +\\infty} \\frac{\\ln(x^2-x+1)}{\\ln(x^{10}+x+1)}$$"
   ]
  },
  {
   "cell_type": "markdown",
   "metadata": {},
   "source": [
    "$$\\lim_{x\\to +\\infty} \\frac{\\ln(x^2-x+1)}{\\ln(x^{10}+x+1)} = \\lim_{x\\to +\\infty} \\frac{2\\ln x + \\ln(1-\\frac{1}{x} + \\frac{1}{x^2})}{10\\ln x + \\ln(1+\\frac{1}{x^9}+\\frac{1}{x^10})} = \\frac{2 + \\frac{\\ln(1-\\frac{1}{x} + \\frac{1}{x^2})}{lnx}}{10 + \\frac{\\ln(1+\\frac{1}{x^9}+\\frac{1}{x^10})}{ln x}} = \\frac{2}{10} = \\frac{1}{5}$$"
   ]
  },
  {
   "cell_type": "markdown",
   "metadata": {},
   "source": [
    "__2*.__ На языке Python предложить алгоритм вычисляющий численно предел\n",
    "\n",
    "### $$\\lim_{x\\to +\\infty} \\frac{x}{\\sqrt[x]{x!}}$$"
   ]
  },
  {
   "cell_type": "code",
   "execution_count": 2,
   "metadata": {},
   "outputs": [
    {
     "data": {
      "image/png": "[encoded data removed]",
      "text/latex": [
       "$\\displaystyle x x!^{- \\frac{1}{x}}$"
      ],
      "text/plain": [
       "    -1 \n",
       "    ───\n",
       "     x \n",
       "x⋅x!   "
      ]
     },
     "execution_count": 2,
     "metadata": {},
     "output_type": "execute_result"
    }
   ],
   "source": [
    "from sympy import *\n",
    "init_printing()\n",
    "x=Symbol('x')\n",
    "a=x / root(factorial(x), x)\n",
    "a"
   ]
  },
  {
   "cell_type": "code",
   "execution_count": 3,
   "metadata": {},
   "outputs": [
    {
     "data": {
      "image/png": "[encoded data removed]",
      "text/latex": [
       "$\\displaystyle e$"
      ],
      "text/plain": [
       "ℯ"
      ]
     },
     "execution_count": 3,
     "metadata": {},
     "output_type": "execute_result"
    }
   ],
   "source": [
    "limit (a,x,oo)"
   ]
  },
  {
   "cell_type": "code",
   "execution_count": 40,
   "metadata": {},
   "outputs": [
    {
     "name": "stdout",
     "output_type": "stream",
     "text": [
      "Время вычисления: 0:05:53.532437\n",
      " Численное значение предела: 2.71785338299393\n",
      " Погрешность: 9.99963356562716E-9\n",
      " Число шагов: 39393\n"
     ]
    }
   ],
   "source": [
    "import math\n",
    "from datetime import datetime as dt\n",
    "eps = 0.00000001\n",
    "lim=1\n",
    "\n",
    "x = 1\n",
    "a2= 1\n",
    "start = dt.now()\n",
    "while lim > eps:\n",
    "    if x > 1000000:\n",
    "        print('break')\n",
    "        break\n",
    "    a1 = a2\n",
    "    x+=1\n",
    "    a2 = x / factorial(x)**(1/x) # factorial из библиотеки sympy. Факториал из math переполняет стек\n",
    "    lim = abs(a1-a2)\n",
    "\n",
    "print (f'Время вычисления: {dt.now()-start}\\n', f'Численное значение предела: {a2}\\n',f'Погрешность: {lim}\\n', f'Число шагов: {x-1}')"
   ]
  },
  {
   "cell_type": "code",
   "execution_count": 62,
   "metadata": {},
   "outputs": [
    {
     "name": "stdout",
     "output_type": "stream",
     "text": [
      "Время вычисления: 0:00:06.949272\n",
      " Численное значение предела: 2.717853382993934438986842111\n",
      " Погрешность: 9.999633498148422724E-9\n",
      " Число шагов: 39393\n"
     ]
    }
   ],
   "source": [
    "#для сокращения времени вычисления уберем повторный пересчет факториала\n",
    "from decimal import *\n",
    "eps = 0.00000001\n",
    "lim=1\n",
    "\n",
    "x = 1\n",
    "a2= 1\n",
    "fact = Decimal(1)\n",
    "start = dt.now()\n",
    "while lim > eps:\n",
    "    if x > 1000000:\n",
    "        print('break')\n",
    "        break\n",
    "    a1 = a2\n",
    "    x+=1\n",
    "    fact *=Decimal(x)\n",
    "    a2 = Decimal(x / fact**(Decimal(1/x)))\n",
    "    lim = abs(a1-a2)\n",
    "\n",
    "print (f'Время вычисления: {dt.now()-start}\\n', f'Численное значение предела: {a2}\\n',f'Погрешность: {lim}\\n', f'Число шагов: {x-1}')"
   ]
  },
  {
   "cell_type": "code",
   "execution_count": null,
   "metadata": {},
   "outputs": [],
   "source": []
  }
 ],
 "metadata": {
  "kernelspec": {
   "display_name": "Python 3",
   "language": "python",
   "name": "python3"
  },
  "language_info": {
   "codemirror_mode": {
    "name": "ipython",
    "version": 3
   },
   "file_extension": ".py",
   "mimetype": "text/x-python",
   "name": "python",
   "nbconvert_exporter": "python",
   "pygments_lexer": "ipython3",
   "version": "3.7.9"
  }
 },
 "nbformat": 4,
 "nbformat_minor": 4
}
